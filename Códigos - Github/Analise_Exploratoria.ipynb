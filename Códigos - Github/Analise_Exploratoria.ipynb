{
 "cells": [
  {
   "cell_type": "code",
   "execution_count": 1,
   "id": "71feb5f6",
   "metadata": {},
   "outputs": [],
   "source": [
    "import pyarrow as pa\n",
    "import pandas as pd\n",
    "import numpy as np\n",
    "import os\n",
    "import pyarrow.parquet as pq\n",
    "import fastparquet\n",
    "import matplotlib.pyplot as plt\n",
    "import seaborn as sns"
   ]
  },
  {
   "cell_type": "code",
   "execution_count": 2,
   "id": "414f1610",
   "metadata": {},
   "outputs": [],
   "source": [
    "df = pd.read_parquet('/home/vinicius.vancellote/data/BaseAnalise.parquet',engine='fastparquet')\n",
    "zonas = pd.read_csv('/home/vinicius.vancellote/Codigos_Python/Bases/EstacoesPluviometricas/Zonas_Pluviometricas.csv')"
   ]
  },
  {
   "cell_type": "code",
   "execution_count": 3,
   "id": "18a1a6ad",
   "metadata": {},
   "outputs": [],
   "source": [
    "condicao = [df['acumulado_chuva_1_h']==0.0,df['acumulado_chuva_1_h']<5.0,df['acumulado_chuva_1_h']<=25.0,df['acumulado_chuva_1_h']<=50.0]\n",
    "resultados = ['Sem_Chuva','Chuva_Fraca','Chuva_Moderada','Chuva_Forte']\n",
    "df['Class_Chuva']=np.select(condicao,resultados,'Chuva_Muito_Forte')"
   ]
  },
  {
   "cell_type": "code",
   "execution_count": 4,
   "id": "4dabe48a",
   "metadata": {},
   "outputs": [
    {
     "data": {
      "text/html": [
       "<div>\n",
       "<style scoped>\n",
       "    .dataframe tbody tr th:only-of-type {\n",
       "        vertical-align: middle;\n",
       "    }\n",
       "\n",
       "    .dataframe tbody tr th {\n",
       "        vertical-align: top;\n",
       "    }\n",
       "\n",
       "    .dataframe thead th {\n",
       "        text-align: right;\n",
       "    }\n",
       "</style>\n",
       "<table border=\"1\" class=\"dataframe\">\n",
       "  <thead>\n",
       "    <tr style=\"text-align: right;\">\n",
       "      <th></th>\n",
       "      <th>data_particao</th>\n",
       "      <th>horario</th>\n",
       "      <th>id_estacao</th>\n",
       "      <th>acumulado_chuva_15_min</th>\n",
       "      <th>acumulado_chuva_1_h</th>\n",
       "      <th>acumulado_chuva_4_h</th>\n",
       "      <th>acumulado_chuva_24_h</th>\n",
       "      <th>acumulado_chuva_96_h</th>\n",
       "      <th>velocidade_inst</th>\n",
       "      <th>agitacao</th>\n",
       "      <th>avgspeed</th>\n",
       "      <th>qtd_onibus</th>\n",
       "      <th>qtd_registros</th>\n",
       "      <th>Class_Chuva</th>\n",
       "    </tr>\n",
       "  </thead>\n",
       "  <tbody>\n",
       "    <tr>\n",
       "      <th>0</th>\n",
       "      <td>2019-08-27</td>\n",
       "      <td>00:00:00</td>\n",
       "      <td>1.0</td>\n",
       "      <td>0.0</td>\n",
       "      <td>0.0</td>\n",
       "      <td>0.0</td>\n",
       "      <td>0.0</td>\n",
       "      <td>10.0</td>\n",
       "      <td>26.583333</td>\n",
       "      <td>1.210274</td>\n",
       "      <td>26.397705</td>\n",
       "      <td>2</td>\n",
       "      <td>3</td>\n",
       "      <td>Sem_Chuva</td>\n",
       "    </tr>\n",
       "    <tr>\n",
       "      <th>1</th>\n",
       "      <td>2019-08-27</td>\n",
       "      <td>00:00:00</td>\n",
       "      <td>10.0</td>\n",
       "      <td>0.0</td>\n",
       "      <td>0.0</td>\n",
       "      <td>0.0</td>\n",
       "      <td>0.0</td>\n",
       "      <td>3.2</td>\n",
       "      <td>3.693367</td>\n",
       "      <td>86.790892</td>\n",
       "      <td>3.629273</td>\n",
       "      <td>499</td>\n",
       "      <td>1874</td>\n",
       "      <td>Sem_Chuva</td>\n",
       "    </tr>\n",
       "    <tr>\n",
       "      <th>2</th>\n",
       "      <td>2019-08-27</td>\n",
       "      <td>00:00:00</td>\n",
       "      <td>11.0</td>\n",
       "      <td>0.0</td>\n",
       "      <td>0.0</td>\n",
       "      <td>0.0</td>\n",
       "      <td>0.0</td>\n",
       "      <td>2.0</td>\n",
       "      <td>8.203266</td>\n",
       "      <td>59.018461</td>\n",
       "      <td>8.249270</td>\n",
       "      <td>174</td>\n",
       "      <td>646</td>\n",
       "      <td>Sem_Chuva</td>\n",
       "    </tr>\n",
       "    <tr>\n",
       "      <th>3</th>\n",
       "      <td>2019-08-27</td>\n",
       "      <td>00:00:00</td>\n",
       "      <td>12.0</td>\n",
       "      <td>0.0</td>\n",
       "      <td>0.0</td>\n",
       "      <td>0.0</td>\n",
       "      <td>0.0</td>\n",
       "      <td>5.4</td>\n",
       "      <td>6.332039</td>\n",
       "      <td>86.824507</td>\n",
       "      <td>6.354081</td>\n",
       "      <td>217</td>\n",
       "      <td>1030</td>\n",
       "      <td>Sem_Chuva</td>\n",
       "    </tr>\n",
       "    <tr>\n",
       "      <th>4</th>\n",
       "      <td>2019-08-27</td>\n",
       "      <td>00:00:00</td>\n",
       "      <td>13.0</td>\n",
       "      <td>0.0</td>\n",
       "      <td>0.0</td>\n",
       "      <td>0.0</td>\n",
       "      <td>0.0</td>\n",
       "      <td>4.4</td>\n",
       "      <td>17.693548</td>\n",
       "      <td>16.813206</td>\n",
       "      <td>22.598388</td>\n",
       "      <td>30</td>\n",
       "      <td>62</td>\n",
       "      <td>Sem_Chuva</td>\n",
       "    </tr>\n",
       "  </tbody>\n",
       "</table>\n",
       "</div>"
      ],
      "text/plain": [
       "  data_particao   horario id_estacao  acumulado_chuva_15_min  \\\n",
       "0    2019-08-27  00:00:00        1.0                     0.0   \n",
       "1    2019-08-27  00:00:00       10.0                     0.0   \n",
       "2    2019-08-27  00:00:00       11.0                     0.0   \n",
       "3    2019-08-27  00:00:00       12.0                     0.0   \n",
       "4    2019-08-27  00:00:00       13.0                     0.0   \n",
       "\n",
       "   acumulado_chuva_1_h  acumulado_chuva_4_h  acumulado_chuva_24_h  \\\n",
       "0                  0.0                  0.0                   0.0   \n",
       "1                  0.0                  0.0                   0.0   \n",
       "2                  0.0                  0.0                   0.0   \n",
       "3                  0.0                  0.0                   0.0   \n",
       "4                  0.0                  0.0                   0.0   \n",
       "\n",
       "   acumulado_chuva_96_h  velocidade_inst   agitacao   avgspeed  qtd_onibus  \\\n",
       "0                  10.0        26.583333   1.210274  26.397705           2   \n",
       "1                   3.2         3.693367  86.790892   3.629273         499   \n",
       "2                   2.0         8.203266  59.018461   8.249270         174   \n",
       "3                   5.4         6.332039  86.824507   6.354081         217   \n",
       "4                   4.4        17.693548  16.813206  22.598388          30   \n",
       "\n",
       "   qtd_registros Class_Chuva  \n",
       "0              3   Sem_Chuva  \n",
       "1           1874   Sem_Chuva  \n",
       "2            646   Sem_Chuva  \n",
       "3           1030   Sem_Chuva  \n",
       "4             62   Sem_Chuva  "
      ]
     },
     "execution_count": 4,
     "metadata": {},
     "output_type": "execute_result"
    }
   ],
   "source": [
    "df.head()"
   ]
  },
  {
   "cell_type": "code",
   "execution_count": 6,
   "id": "a8e1d315",
   "metadata": {},
   "outputs": [],
   "source": [
    "#Abrindo o dataset em Agosto e Dezembro\n",
    "df_ago = df[df[\"data_particao\"].dt.month==8]\n",
    "df_dez = df[df[\"data_particao\"].dt.month==12]"
   ]
  },
  {
   "cell_type": "code",
   "execution_count": 7,
   "id": "7e9a5cb9",
   "metadata": {},
   "outputs": [
    {
     "name": "stderr",
     "output_type": "stream",
     "text": [
      "<ipython-input-7-d378d0167077>:2: SettingWithCopyWarning: \n",
      "A value is trying to be set on a copy of a slice from a DataFrame.\n",
      "Try using .loc[row_indexer,col_indexer] = value instead\n",
      "\n",
      "See the caveats in the documentation: https://pandas.pydata.org/pandas-docs/stable/user_guide/indexing.html#returning-a-view-versus-a-copy\n",
      "  df_ago['id_estacao']=df_ago['id_estacao'].astype(float)\n",
      "<ipython-input-7-d378d0167077>:3: SettingWithCopyWarning: \n",
      "A value is trying to be set on a copy of a slice from a DataFrame.\n",
      "Try using .loc[row_indexer,col_indexer] = value instead\n",
      "\n",
      "See the caveats in the documentation: https://pandas.pydata.org/pandas-docs/stable/user_guide/indexing.html#returning-a-view-versus-a-copy\n",
      "  df_dez['id_estacao']=df_dez['id_estacao'].astype(float)\n"
     ]
    }
   ],
   "source": [
    "df['id_estacao']=df['id_estacao'].astype(float)\n",
    "df_ago['id_estacao']=df_ago['id_estacao'].astype(float)\n",
    "df_dez['id_estacao']=df_dez['id_estacao'].astype(float)"
   ]
  },
  {
   "cell_type": "code",
   "execution_count": 8,
   "id": "bbf67ea0",
   "metadata": {},
   "outputs": [
    {
     "data": {
      "image/png": "[encoded data removed]",
      "text/plain": [
       "<Figure size 640x480 with 1 Axes>"
      ]
     },
     "metadata": {},
     "output_type": "display_data"
    }
   ],
   "source": [
    "#Comparando as velocidades\n",
    "df.groupby(df['data_particao'].dt.month)[\"velocidade_inst\"].mean().plot(color='green')\n",
    "plt.title(\"Velocidade Média x Mês\")\n",
    "plt.xlabel(\"Mês\")\n",
    "plt.ylabel(\"Velocidade Média\")\n",
    "plt.show()"
   ]
  },
  {
   "cell_type": "code",
   "execution_count": null,
   "id": "93b2e4dd",
   "metadata": {},
   "outputs": [],
   "source": [
    "#Comparando as velocidades\n",
    "df_ago.groupby(df_ago['horario'])[\"velocidade_inst\"].mean().plot(color='green',label='Agosto')\n",
    "df_dez.groupby(df_dez['horario'])[\"velocidade_inst\"].mean().plot(color='red',label='Dezembro')\n",
    "plt.title(\"Velocidade Média x Horário\")\n",
    "plt.xlabel(\"Horário\")\n",
    "plt.ylabel(\"Velocidade Média\")\n",
    "plt.legend()\n",
    "plt.show()"
   ]
  },
  {
   "cell_type": "code",
   "execution_count": null,
   "id": "7044cc03",
   "metadata": {},
   "outputs": [],
   "source": [
    "#Comparando as velocidades dia da semana\n",
    "# 0 Segunda -> 6 domingo\n",
    "df_ago.groupby(df_ago['data_particao'].dt.dayofweek)[\"velocidade_inst\"].mean().plot(color='green',label='Agosto')\n",
    "df_dez.groupby(df_dez['data_particao'].dt.dayofweek)[\"velocidade_inst\"].mean().plot(color='red',label='Dezembro')\n",
    "plt.title(\"Velocidade Média x Dia da Semana\")\n",
    "plt.xlabel(\"Dia da Semana\")\n",
    "plt.ylabel(\"Velocidade Média\")\n",
    "plt.legend()\n",
    "plt.show()"
   ]
  },
  {
   "cell_type": "code",
   "execution_count": null,
   "id": "df912be4",
   "metadata": {},
   "outputs": [],
   "source": [
    "#Comparando as agitacoes\n",
    "df.groupby(df['data_particao'].dt.month)[\"agitacao\"].sum().plot(color='green')\n",
    "plt.title(\"Agitacao x Mês\")\n",
    "plt.xlabel(\"Mês\")\n",
    "plt.ylabel(\"Agitacao\")\n",
    "plt.show()"
   ]
  },
  {
   "cell_type": "code",
   "execution_count": null,
   "id": "a831e992",
   "metadata": {},
   "outputs": [],
   "source": [
    "#Comparando as agitacoes\n",
    "df_ago.groupby(df_ago['horario'])[\"agitacao\"].sum().plot(color='green',label='Agosto')\n",
    "df_dez.groupby(df_dez['horario'])[\"agitacao\"].sum().plot(color='red',label='Dezembro')\n",
    "plt.title(\"Agitacao x Horário\")\n",
    "plt.xlabel(\"Horário\")\n",
    "plt.ylabel(\"Agitacao\")\n",
    "plt.legend()\n",
    "plt.show()"
   ]
  },
  {
   "cell_type": "code",
   "execution_count": null,
   "id": "4ea2b5df",
   "metadata": {},
   "outputs": [],
   "source": [
    "#Comparando as agitacoes dia da semana\n",
    "# 0 Segunda -> 6 domingo\n",
    "df_ago.groupby(df_ago['data_particao'].dt.dayofweek)[\"agitacao\"].sum().plot(color='green',label='Agosto')\n",
    "df_dez.groupby(df_dez['data_particao'].dt.dayofweek)[\"agitacao\"].sum().plot(color='red',label='Dezembro')\n",
    "plt.title(\"Agitacao x Dia da Semana\")\n",
    "plt.xlabel(\"Dia da Semana\")\n",
    "plt.ylabel(\"Agitacao\")\n",
    "plt.legend()\n",
    "plt.show()"
   ]
  },
  {
   "cell_type": "code",
   "execution_count": null,
   "id": "e475fef4",
   "metadata": {},
   "outputs": [],
   "source": [
    "#Comparando as Chuvas\n",
    "df.groupby(df['data_particao'].dt.month)[\"acumulado_chuva_15_min\"].sum().plot(color='green')\n",
    "plt.title(\"Chuva x Mês\")\n",
    "plt.xlabel(\"Mês\")\n",
    "plt.ylabel(\"Chuva\")\n",
    "plt.show()"
   ]
  },
  {
   "cell_type": "code",
   "execution_count": null,
   "id": "563133bf",
   "metadata": {},
   "outputs": [],
   "source": [
    "#Comparando as Chuvas\n",
    "df_ago.groupby(df_ago['horario'])[\"acumulado_chuva_15_min\"].sum().plot(color='green',label='Agosto')\n",
    "df_dez.groupby(df_dez['horario'])[\"acumulado_chuva_15_min\"].sum().plot(color='red',label='Dezembro')\n",
    "plt.title(\"Chuva x Horário\")\n",
    "plt.xlabel(\"Horário\")\n",
    "plt.ylabel(\"Chuva\")\n",
    "plt.legend()\n",
    "plt.show()"
   ]
  },
  {
   "cell_type": "code",
   "execution_count": null,
   "id": "4fe0ad2d",
   "metadata": {},
   "outputs": [],
   "source": [
    "# Mapa de correlação das variáveis numéricas\n",
    "sns.heatmap(df.corr(), annot=True, cmap=\"PiYG\")\n",
    "plt.show()"
   ]
  },
  {
   "cell_type": "code",
   "execution_count": null,
   "id": "32a28f45",
   "metadata": {},
   "outputs": [],
   "source": [
    "#Verificando chuva por estação\n",
    "df_ago.groupby(df_ago['id_estacao'].astype(str))[\"acumulado_chuva_15_min\"].sum().plot(color='green',label='Agosto')\n",
    "df_dez.groupby(df_dez['id_estacao'].astype(str))[\"acumulado_chuva_15_min\"].sum().plot(color='red',label=\"Dezembro\")\n",
    "plt.title(\"Chuva x Estacao\")\n",
    "plt.legend()\n",
    "plt.xlabel(\"Estacao\")\n",
    "plt.ylabel(\"Chuva\")\n",
    "plt.show()"
   ]
  },
  {
   "cell_type": "code",
   "execution_count": null,
   "id": "8010fb1f",
   "metadata": {},
   "outputs": [],
   "source": [
    "#Abrindo o dataset por estacao\n",
    "df_r1= df[df[\"id_estacao\"]==1.0]\n",
    "df_r2= df[df[\"id_estacao\"]==2.0]\n",
    "df_r3= df[df[\"id_estacao\"]==3.0]\n",
    "df_r4= df[df[\"id_estacao\"]==4.0]\n",
    "df_r5= df[df[\"id_estacao\"]==5.0]\n",
    "df_r6= df[df[\"id_estacao\"]==6.0]\n",
    "df_r7= df[df[\"id_estacao\"]==7.0]\n",
    "df_r8= df[df[\"id_estacao\"]==8.0]\n",
    "df_r9= df[df[\"id_estacao\"]==9.0]\n",
    "df_r10= df[df[\"id_estacao\"]==10.0]\n",
    "df_r11= df[df[\"id_estacao\"]==11.0]\n",
    "df_r12= df[df[\"id_estacao\"]==12.0]\n",
    "df_r13= df[df[\"id_estacao\"]==13.0]\n",
    "df_r14= df[df[\"id_estacao\"]==14.0]\n",
    "df_r15= df[df[\"id_estacao\"]==15.0]\n",
    "df_r16= df[df[\"id_estacao\"]==16.0]\n",
    "df_r17= df[df[\"id_estacao\"]==17.0]\n",
    "df_r18= df[df[\"id_estacao\"]==18.0]\n",
    "df_r19= df[df[\"id_estacao\"]==19.0]\n",
    "df_r20= df[df[\"id_estacao\"]==20.0]\n",
    "df_r21= df[df[\"id_estacao\"]==21.0]\n",
    "df_r22= df[df[\"id_estacao\"]==22.0]\n",
    "df_r23= df[df[\"id_estacao\"]==23.0]\n",
    "df_r24= df[df[\"id_estacao\"]==24.0]\n",
    "df_r25= df[df[\"id_estacao\"]==25.0]\n",
    "df_r26= df[df[\"id_estacao\"]==26.0]\n",
    "df_r27= df[df[\"id_estacao\"]==27.0]\n",
    "df_r28= df[df[\"id_estacao\"]==28.0]\n",
    "df_r29= df[df[\"id_estacao\"]==29.0]\n",
    "df_r30= df[df[\"id_estacao\"]==30.0]\n",
    "df_r31= df[df[\"id_estacao\"]==31.0]\n",
    "df_r32= df[df[\"id_estacao\"]==32.0]\n",
    "df_r33= df[df[\"id_estacao\"]==33.0]"
   ]
  },
  {
   "cell_type": "code",
   "execution_count": null,
   "id": "f8bb5339",
   "metadata": {},
   "outputs": [],
   "source": [
    "#Comparando as velocidades por região\n",
    "df_r28.groupby(df_r28[df_r28['data_particao'].dt.month==8]['horario'])[\"velocidade_inst\"].mean().plot(color='orange',label='R_28_Agosto')\n",
    "df_r32.groupby(df_r32[df_r32['data_particao'].dt.month==8]['horario'])[\"velocidade_inst\"].mean().plot(color='pink',label='R_32_Agosto')\n",
    "plt.title(\"Velocidade Média x Horário\")\n",
    "plt.xlabel(\"Horário\")\n",
    "plt.ylabel(\"Velocidade Média\")\n",
    "plt.legend()\n",
    "plt.show()"
   ]
  },
  {
   "cell_type": "code",
   "execution_count": null,
   "id": "86d1253c",
   "metadata": {},
   "outputs": [],
   "source": [
    "#Comparando as chuvas por região\n",
    "df_r28.groupby(df_r28[df_r28['data_particao'].dt.month==8]['horario'])[\"acumulado_chuva_15_min\"].sum().plot(color='orange',label='R_28_Agosto')\n",
    "df_r32.groupby(df_r32[df_r32['data_particao'].dt.month==8]['horario'])[\"acumulado_chuva_15_min\"].sum().plot(color='pink',label='R_32_Agosto')\n",
    "plt.title(\"Chuva x Horário\")\n",
    "plt.xlabel(\"Horário\")\n",
    "plt.ylabel(\"Chuva\")\n",
    "plt.legend()\n",
    "plt.show()"
   ]
  },
  {
   "cell_type": "code",
   "execution_count": null,
   "id": "a0121c15",
   "metadata": {},
   "outputs": [],
   "source": [
    "table_chuva = df.groupby(by=['data_particao'],as_index=False).agg(\n",
    "chuva = pd.NamedAgg(column='acumulado_chuva_15_min',aggfunc='sum'))\n",
    "table_chuva['dia_semana']=table_chuva['data_particao'].dt.dayofweek\n",
    "table_chuva=table_chuva.sort_values(by=['chuva'],ignore_index=True,ascending=False)\n",
    "table_chuva"
   ]
  },
  {
   "cell_type": "code",
   "execution_count": null,
   "id": "66e1c597",
   "metadata": {},
   "outputs": [],
   "source": [
    "#Comparando as velocidades\n",
    "df.groupby(df[df['data_particao']=='2019-08-04']['horario'])[\"velocidade_inst\"].mean().plot(color='red',label='04/08 - Chuva')\n",
    "df.groupby(df[df['data_particao']=='2019-08-11']['horario'])[\"velocidade_inst\"].mean().plot(color='green',label='11/08 - Seco')\n",
    "df.groupby(df[df['data_particao']=='2019-08-04']['horario'])[\"acumulado_chuva_15_min\"].mean().plot(color='pink',label='04/08 - Chuva')\n",
    "plt.title(\"Velocidade Média x Horário\")\n",
    "plt.xlabel(\"Horário\")\n",
    "plt.ylabel(\"Velocidade Média\")\n",
    "plt.legend()\n",
    "plt.show()"
   ]
  },
  {
   "cell_type": "code",
   "execution_count": null,
   "id": "1b46326c",
   "metadata": {},
   "outputs": [],
   "source": [
    "df.groupby(df[df['Class_Chuva']=='Sem_Chuva']['data_particao'].dt.dayofweek)[\"velocidade_inst\"].mean().plot(color='black',label='Sem Chuva')\n",
    "df.groupby(df[df['Class_Chuva']=='Chuva_Fraca']['data_particao'].dt.dayofweek)[\"velocidade_inst\"].mean().plot(color='green',label='Chuva Fraca')\n",
    "df.groupby(df[df['Class_Chuva']=='Chuva_Moderada']['data_particao'].dt.dayofweek)[\"velocidade_inst\"].mean().plot(color='pink',label='Chuva Moderada')\n",
    "df.groupby(df[df['Class_Chuva']=='Chuva_Forte']['data_particao'].dt.dayofweek)[\"velocidade_inst\"].mean().plot(color='orange',label='Chuva Forte')\n",
    "df.groupby(df[df['Class_Chuva']=='Chuva_Muito_Forte']['data_particao'].dt.dayofweek)[\"velocidade_inst\"].mean().plot(color='red',label='Chuva Muito Forte')\n",
    "plt.title(\"Velocidade Média x Dia da Semana\")\n",
    "plt.xlabel(\"Dia da Semana\")\n",
    "plt.ylabel(\"Velocidade Média\")\n",
    "plt.legend()\n",
    "plt.show()"
   ]
  },
  {
   "cell_type": "code",
   "execution_count": null,
   "id": "735aeead",
   "metadata": {},
   "outputs": [],
   "source": [
    "table_classchuva = df.groupby(by=['Class_Chuva'],as_index=False)['qtd_registros'].sum()\n",
    "table_classchuva"
   ]
  },
  {
   "cell_type": "code",
   "execution_count": null,
   "id": "b407be91",
   "metadata": {},
   "outputs": [],
   "source": [
    "df.groupby(df[df['Class_Chuva']=='Sem_Chuva']['horario'])[\"velocidade_inst\"].mean().plot(color='black',label='Sem Chuva')\n",
    "df.groupby(df[df['Class_Chuva']=='Chuva_Fraca']['horario'])[\"velocidade_inst\"].mean().plot(color='green',label='Chuva Fraca')\n",
    "df.groupby(df[df['Class_Chuva']=='Chuva_Moderada']['horario'])[\"velocidade_inst\"].mean().plot(color='pink',label='Chuva Moderada')\n",
    "df.groupby(df[df['Class_Chuva']=='Chuva_Forte']['horario'])[\"velocidade_inst\"].mean().plot(color='orange',label='Chuva Forte')\n",
    "df.groupby(df[df['Class_Chuva']=='Chuva_Muito_Forte']['horario'])[\"velocidade_inst\"].mean().plot(color='red',label='Chuva Muito Forte')\n",
    "plt.title(\"Velocidade Média x Horário\")\n",
    "plt.xlabel(\"Horário\")\n",
    "plt.ylabel(\"Velocidade Média\")\n",
    "plt.legend()\n",
    "plt.show()"
   ]
  },
  {
   "cell_type": "code",
   "execution_count": null,
   "id": "dec7a965",
   "metadata": {},
   "outputs": [],
   "source": [
    "df_semchuva= df[df[\"Class_Chuva\"]=='Sem_Chuva']\n",
    "df_chuvafraca= df[df[\"Class_Chuva\"]=='Chuva_Fraca']\n",
    "df_chuvamoderada= df[df[\"Class_Chuva\"]=='Chuva_Moderada']\n",
    "df_chuvaforte= df[df[\"Class_Chuva\"]=='Chuva_Forte']\n",
    "df_chuvamtforte= df[df[\"Class_Chuva\"]=='Chuva_Muito_Forte']\n"
   ]
  },
  {
   "cell_type": "code",
   "execution_count": null,
   "id": "b0b4fe38",
   "metadata": {},
   "outputs": [],
   "source": [
    "# Mapa de correlação das variáveis numéricas semchuva\n",
    "sns.heatmap(df_semchuva.corr(), annot=True, cmap=\"PiYG\")\n",
    "plt.show()"
   ]
  },
  {
   "cell_type": "code",
   "execution_count": null,
   "id": "363fc87c",
   "metadata": {},
   "outputs": [],
   "source": [
    "# Mapa de correlação das variáveis numéricas chuvafraca\n",
    "sns.heatmap(df_chuvafraca.corr(), annot=True, cmap=\"PiYG\")\n",
    "plt.show()"
   ]
  },
  {
   "cell_type": "code",
   "execution_count": null,
   "id": "e5da9948",
   "metadata": {},
   "outputs": [],
   "source": [
    "# Mapa de correlação das variáveis numéricas chuvamoderada\n",
    "sns.heatmap(df_chuvamoderada.corr(), annot=True, cmap=\"PiYG\")\n",
    "plt.show()"
   ]
  },
  {
   "cell_type": "code",
   "execution_count": null,
   "id": "bce38ca0",
   "metadata": {},
   "outputs": [],
   "source": [
    "# Mapa de correlação das variáveis numéricas chuvaforte\n",
    "sns.heatmap(df_chuvaforte.corr(), annot=True, cmap=\"PiYG\")\n",
    "plt.show()"
   ]
  },
  {
   "cell_type": "code",
   "execution_count": null,
   "id": "1b6b447b",
   "metadata": {
    "scrolled": true
   },
   "outputs": [],
   "source": [
    "zonas"
   ]
  },
  {
   "cell_type": "code",
   "execution_count": null,
   "id": "735db918",
   "metadata": {},
   "outputs": [],
   "source": [
    "#Comparando as velocidades\n",
    "df_r4.groupby(df_r4[df_r4['data_particao']=='2019-12-23']['horario'])[\"velocidade_inst\"].mean().plot(color='red',label='23/12 - Chuva')\n",
    "df_r4.groupby(df_r4[df_r4['data_particao']=='2019-12-16']['horario'])[\"velocidade_inst\"].mean().plot(color='green',label='16/12 - Seco')\n",
    "df_r4.groupby(df_r4[df_r4['data_particao']=='2019-12-23']['horario'])[\"acumulado_chuva_15_min\"].sum().plot(color='pink',label='23/12 - mmChuva')\n",
    "plt.title(\"Região 4 - Tijuca - Velocidade Média x Horário\")\n",
    "plt.xlabel(\"Horário\")\n",
    "plt.ylabel(\"Velocidade Média\")\n",
    "plt.legend()\n",
    "plt.show()"
   ]
  },
  {
   "cell_type": "code",
   "execution_count": null,
   "id": "91b0ac0a",
   "metadata": {},
   "outputs": [],
   "source": [
    "#Comparando as velocidades\n",
    "df_r4.groupby(df_r4[df_r4['data_particao']=='2019-12-23']['horario'])[\"velocidade_inst\"].mean().plot(color='red',label='23/12')\n",
    "df_r4.groupby(df_r4[df_r4['data_particao']=='2019-12-16']['horario'])[\"velocidade_inst\"].mean().plot(color='green',label='16/12')\n",
    "df_r4.groupby(df_r4[df_r4['data_particao']=='2019-12-09']['horario'])[\"velocidade_inst\"].mean().plot(color='pink',label='09/12')\n",
    "df_r4.groupby(df_r4[df_r4['data_particao']=='2019-12-02']['horario'])[\"velocidade_inst\"].mean().plot(color='black',label='02/12')\n",
    "plt.title(\"Região 4 - Tijuca - Velocidade x Horário\")\n",
    "plt.xlabel(\"Horário\")\n",
    "plt.ylabel(\"Velocidade\")\n",
    "plt.legend()\n",
    "plt.show()"
   ]
  },
  {
   "cell_type": "code",
   "execution_count": null,
   "id": "1f37a120",
   "metadata": {},
   "outputs": [],
   "source": [
    "#Comparando as velocidades\n",
    "df_r4.groupby(df_r4[df_r4['data_particao']=='2019-12-23']['horario'])[\"agitacao\"].sum().plot(color='red',label='23/12')\n",
    "df_r4.groupby(df_r4[df_r4['data_particao']=='2019-12-16']['horario'])[\"agitacao\"].sum().plot(color='green',label='16/12')\n",
    "df_r4.groupby(df_r4[df_r4['data_particao']=='2019-12-09']['horario'])[\"agitacao\"].sum().plot(color='pink',label='09/12')\n",
    "df_r4.groupby(df_r4[df_r4['data_particao']=='2019-12-02']['horario'])[\"agitacao\"].sum().plot(color='black',label='02/12')\n",
    "plt.title(\"Região 4 - Tijuca - Agitação x Horário\")\n",
    "plt.xlabel(\"Horário\")\n",
    "plt.ylabel(\"Agitação\")\n",
    "plt.legend()\n",
    "plt.show()"
   ]
  },
  {
   "cell_type": "code",
   "execution_count": null,
   "id": "5f3bf18e",
   "metadata": {},
   "outputs": [],
   "source": [
    "#Comparando as velocidades\n",
    "df_r4.groupby(df_r4[df_r4['data_particao']=='2019-12-23']['horario'])[\"acumulado_chuva_15_min\"].sum().plot(color='red',label='23/12')\n",
    "df_r4.groupby(df_r4[df_r4['data_particao']=='2019-12-16']['horario'])[\"acumulado_chuva_15_min\"].sum().plot(color='green',label='16/12')\n",
    "df_r4.groupby(df_r4[df_r4['data_particao']=='2019-12-09']['horario'])[\"acumulado_chuva_15_min\"].sum().plot(color='pink',label='09/12')\n",
    "df_r4.groupby(df_r4[df_r4['data_particao']=='2019-12-02']['horario'])[\"acumulado_chuva_15_min\"].sum().plot(color='black',label='02/12')\n",
    "plt.title(\"Região 4 - Tijuca - Chuva x Horário\")\n",
    "plt.xlabel(\"Horário\")\n",
    "plt.ylabel(\"Chuva\")\n",
    "plt.legend()\n",
    "plt.show()"
   ]
  },
  {
   "cell_type": "code",
   "execution_count": null,
   "id": "531c6224",
   "metadata": {},
   "outputs": [],
   "source": [
    "#Comparando as velocidades\n",
    "df_r19.groupby(df_r19[df_r19['data_particao']=='2019-12-23']['horario'])[\"velocidade_inst\"].mean().plot(color='pink',label='Barra')\n",
    "df_r4.groupby(df_r4[df_r4['data_particao']=='2019-12-23']['horario'])[\"velocidade_inst\"].mean().plot(color='red',label='Tijuca')\n",
    "df_r4.groupby(df_r4[df_r4['data_particao']=='2019-12-23']['horario'])[\"acumulado_chuva_15_min\"].sum().plot(color='red',label='mmChuva Tijuca')\n",
    "df_r19.groupby(df_r19[df_r19['data_particao']=='2019-12-23']['horario'])[\"acumulado_chuva_15_min\"].sum().plot(color='pink',label='mmChuva Barra')\n",
    "plt.title(\"Barra x Tijuca - Velocidade Média x Horário\")\n",
    "plt.xlabel(\"Horário\")\n",
    "plt.ylabel(\"Velocidade Média\")\n",
    "plt.legend()\n",
    "plt.show()"
   ]
  },
  {
   "cell_type": "code",
   "execution_count": null,
   "id": "c8e4666c",
   "metadata": {},
   "outputs": [],
   "source": [
    "#Comparando as velocidades\n",
    "df_r19.groupby(df_r19[df_r19['data_particao']=='2019-12-23']['horario'])[\"velocidade_inst\"].mean().plot(color='red',label='23/12')\n",
    "df_r19.groupby(df_r19[df_r19['data_particao']=='2019-12-16']['horario'])[\"velocidade_inst\"].mean().plot(color='green',label='16/12')\n",
    "df_r19.groupby(df_r19[df_r19['data_particao']=='2019-12-09']['horario'])[\"velocidade_inst\"].mean().plot(color='pink',label='09/12')\n",
    "df_r19.groupby(df_r19[df_r19['data_particao']=='2019-12-02']['horario'])[\"velocidade_inst\"].mean().plot(color='black',label='02/12')\n",
    "plt.title(\"Região 4 - Tijuca - Velocidade x Horário\")\n",
    "plt.xlabel(\"Horário\")\n",
    "plt.ylabel(\"Velocidade\")\n",
    "plt.legend()\n",
    "plt.show()"
   ]
  },
  {
   "cell_type": "code",
   "execution_count": null,
   "id": "ad91fb55",
   "metadata": {},
   "outputs": [],
   "source": []
  }
 ],
 "metadata": {
  "kernelspec": {
   "display_name": "Python 3",
   "language": "python",
   "name": "python3"
  },
  "language_info": {
   "codemirror_mode": {
    "name": "ipython",
    "version": 3
   },
   "file_extension": ".py",
   "mimetype": "text/x-python",
   "name": "python",
   "nbconvert_exporter": "python",
   "pygments_lexer": "ipython3",
   "version": "3.8.10"
  }
 },
 "nbformat": 4,
 "nbformat_minor": 5
}
