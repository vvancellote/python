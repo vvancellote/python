{
 "cells": [
  {
   "cell_type": "code",
   "execution_count": 1,
   "id": "04df9c37",
   "metadata": {},
   "outputs": [],
   "source": [
    "#pip install fastparquet\n",
    "#pip install pyarrrow"
   ]
  },
  {
   "cell_type": "code",
   "execution_count": 2,
   "id": "b48589cd",
   "metadata": {},
   "outputs": [],
   "source": [
    "import pyarrow as pa\n",
    "import pandas as pd\n",
    "import numpy as np\n",
    "import os\n",
    "import pyarrow.parquet as pq\n",
    "import fastparquet"
   ]
  },
  {
   "cell_type": "code",
   "execution_count": 3,
   "id": "ef783857",
   "metadata": {},
   "outputs": [
    {
     "name": "stdout",
     "output_type": "stream",
     "text": [
      "['G1-2019-08-27.parquet', 'G1-2019-12-26.parquet', 'G1-2019-12-21.parquet', 'G1-2019-12-02.parquet', 'G1-2019-08-12.parquet', 'G1-2019-08-08.parquet', 'G1-2019-08-18.parquet', 'G1-2019-08-31.parquet', 'G1-2019-12-04.parquet', 'G1-2019-08-10.parquet', 'G1-2019-12-20.parquet', 'G1-2019-08-01.parquet', 'G1-2019-12-10.parquet', 'G1-2019-12-28.parquet', 'G1-2019-12-19.parquet', 'G1-2019-12-03.parquet', 'G1-2019-12-09.parquet', 'G1-2019-12-08.parquet', 'G1-2019-08-03.parquet', 'G1-2019-08-23.parquet', 'G1-2019-08-06.parquet', 'G1-2019-12-15.parquet', 'G1-2019-12-11.parquet', 'G1-2019-12-22.parquet', 'G1-2019-08-28.parquet', 'G1-2019-08-11.parquet', 'G1-2019-08-09.parquet', 'G1-2019-12-16.parquet', 'G1-2019-08-20.parquet', 'G1-2019-08-05.parquet', 'G1-2019-12-24.parquet', 'G1-2019-08-25.parquet', 'G1-2019-12-25.parquet', 'G1-2019-08-26.parquet', 'G1-2019-12-13.parquet', 'G1-2019-08-22.parquet', 'G1-2019-08-07.parquet', 'G1-2019-08-16.parquet', 'G1-2019-08-30.parquet', 'G1-2019-08-15.parquet', 'G1-2019-12-31.parquet', 'G1-2019-08-19.parquet', 'G1-2019-12-14.parquet', 'G1-2019-12-30.parquet', 'G1-2019-12-06.parquet', 'G1-2019-08-17.parquet', 'G1-2019-12-05.parquet', 'G1-2019-08-21.parquet', 'G1-2019-12-29.parquet', 'G1-2019-12-07.parquet', 'G1-2019-12-17.parquet', 'G1-2019-12-27.parquet', 'G1-2019-12-12.parquet', 'G1-2019-08-04.parquet', 'G1-2019-12-18.parquet', 'G1-2019-08-14.parquet', 'G1-2019-08-13.parquet', 'G1-2019-08-24.parquet', 'G1-2019-12-23.parquet', 'G1-2019-12-01.parquet', 'G1-2019-08-02.parquet', 'G1-2019-08-29.parquet']\n"
     ]
    }
   ],
   "source": [
    "# ler todos os arquivos csv do diretório e guardar em um objeto\n",
    "path = '/home/vinicius.vancellote/data/parquet/'\n",
    "all_files = list(filter(lambda x: '.parquet' in x, os.listdir(path)))\n",
    "print (all_files)"
   ]
  },
  {
   "cell_type": "code",
   "execution_count": 4,
   "id": "ca39e594",
   "metadata": {},
   "outputs": [],
   "source": [
    "dataset_analise = []"
   ]
  },
  {
   "cell_type": "code",
   "execution_count": 5,
   "id": "d58cd3a5",
   "metadata": {},
   "outputs": [
    {
     "name": "stderr",
     "output_type": "stream",
     "text": [
      "/home/vinicius.vancellote/.local/lib/python3.8/site-packages/geopandas/_compat.py:112: UserWarning: The Shapely GEOS version (3.10.2-CAPI-1.16.0) is incompatible with the GEOS version PyGEOS was compiled with (3.10.1-CAPI-1.16.0). Conversions between both will be slow.\n",
      "  warnings.warn(\n"
     ]
    }
   ],
   "source": [
    "import json\n",
    "from pandas import json_normalize\n",
    "import geopandas as gpd\n",
    "import xml.etree.cElementTree as etree"
   ]
  },
  {
   "cell_type": "code",
   "execution_count": 6,
   "id": "98763555",
   "metadata": {},
   "outputs": [],
   "source": [
    "# Abrindo o Arquivo GeoJson com o limite das Zonas Pluviometricas\n",
    "zonasgpd = gpd.read_file('/home/vinicius.vancellote/Codigos_Python/Bases/EstacoesPluviometricas/Zonas_Pluviometricas.geojson')"
   ]
  },
  {
   "cell_type": "code",
   "execution_count": 7,
   "id": "2b3fe46c",
   "metadata": {},
   "outputs": [],
   "source": [
    "zonasgpd = zonasgpd.drop(columns=['Endereço','Est','ShapeSTArea','ShapeSTLength','Cod'])"
   ]
  },
  {
   "cell_type": "code",
   "execution_count": 8,
   "id": "1a25f3b2",
   "metadata": {},
   "outputs": [
    {
     "name": "stderr",
     "output_type": "stream",
     "text": [
      "<ipython-input-8-46736022e0e7>:5: FutureWarning: The pandas.datetime class is deprecated and will be removed from pandas in a future version. Import from datetime module instead.\n",
      "  chuva['DATE'] = chuva.apply(lambda row: pd.datetime.combine(row['data_particao'],row['horario']),axis=1)\n"
     ]
    }
   ],
   "source": [
    "chuva = pd.read_csv(\"/home/vinicius.vancellote/data/json/chuva.csv\")\n",
    "chuva = chuva.drop(columns=['Unnamed: 0'])\n",
    "chuva['data_particao'] = pd.to_datetime(chuva['data_particao'],format = '%Y-%m-%d' )\n",
    "chuva['horario'] = pd.to_datetime(chuva['horario'],format = '%H:%M:%S').dt.time\n",
    "chuva['DATE'] = chuva.apply(lambda row: pd.datetime.combine(row['data_particao'],row['horario']),axis=1)\n",
    "chuva['id_estacao']=chuva['id_estacao'].astype(float)\n",
    "chuva['id_estacao']=chuva['id_estacao'].astype(str)\n",
    "chuva = chuva.sort_values(by=['DATE','id_estacao'])"
   ]
  },
  {
   "cell_type": "code",
   "execution_count": 11,
   "id": "df4593a1",
   "metadata": {},
   "outputs": [
    {
     "name": "stdout",
     "output_type": "stream",
     "text": [
      "G1-2019-08-27.parquet\n",
      "G1-2019-12-26.parquet\n",
      "G1-2019-12-21.parquet\n",
      "G1-2019-12-02.parquet\n",
      "G1-2019-08-12.parquet\n",
      "G1-2019-08-08.parquet\n",
      "G1-2019-08-18.parquet\n",
      "G1-2019-08-31.parquet\n",
      "G1-2019-12-04.parquet\n",
      "G1-2019-08-10.parquet\n",
      "G1-2019-12-20.parquet\n",
      "G1-2019-08-01.parquet\n",
      "G1-2019-12-10.parquet\n",
      "G1-2019-12-28.parquet\n",
      "G1-2019-12-19.parquet\n",
      "G1-2019-12-03.parquet\n",
      "G1-2019-12-09.parquet\n",
      "G1-2019-12-08.parquet\n",
      "G1-2019-08-03.parquet\n",
      "G1-2019-08-23.parquet\n",
      "G1-2019-08-06.parquet\n",
      "G1-2019-12-15.parquet\n",
      "G1-2019-12-11.parquet\n",
      "G1-2019-12-22.parquet\n",
      "G1-2019-08-28.parquet\n",
      "G1-2019-08-11.parquet\n",
      "G1-2019-08-09.parquet\n",
      "G1-2019-12-16.parquet\n",
      "G1-2019-08-20.parquet\n",
      "G1-2019-08-05.parquet\n",
      "G1-2019-12-24.parquet\n",
      "G1-2019-08-25.parquet\n",
      "G1-2019-12-25.parquet\n",
      "G1-2019-08-26.parquet\n",
      "G1-2019-12-13.parquet\n",
      "G1-2019-08-22.parquet\n",
      "G1-2019-08-07.parquet\n",
      "G1-2019-08-16.parquet\n",
      "G1-2019-08-30.parquet\n",
      "G1-2019-08-15.parquet\n",
      "G1-2019-12-31.parquet\n",
      "G1-2019-08-19.parquet\n",
      "G1-2019-12-14.parquet\n",
      "G1-2019-12-30.parquet\n",
      "G1-2019-12-06.parquet\n",
      "G1-2019-08-17.parquet\n",
      "G1-2019-12-05.parquet\n",
      "G1-2019-08-21.parquet\n",
      "G1-2019-12-29.parquet\n",
      "G1-2019-12-07.parquet\n",
      "G1-2019-12-17.parquet\n",
      "G1-2019-12-27.parquet\n",
      "G1-2019-12-12.parquet\n",
      "G1-2019-08-04.parquet\n",
      "G1-2019-12-18.parquet\n",
      "G1-2019-08-14.parquet\n",
      "G1-2019-08-13.parquet\n",
      "G1-2019-08-24.parquet\n",
      "G1-2019-12-23.parquet\n",
      "G1-2019-12-01.parquet\n",
      "G1-2019-08-02.parquet\n",
      "G1-2019-08-29.parquet\n"
     ]
    }
   ],
   "source": [
    "for elem in range(0,len(all_files)):\n",
    "    dfbus = pd.read_parquet('/home/vinicius.vancellote/data/parquet/' + all_files[elem],engine='fastparquet')\n",
    "    dfbus['LAT'] = dfbus['LAT'].astype(str)\n",
    "    dfbus['LONG'] = dfbus['LONG'].astype(str)\n",
    "    dfbus = dfbus.assign(geometry = ('POINT Z (' + dfbus['LONG'] + ' ' + dfbus['LAT'] + ' ' + '0.00000)'))\n",
    "    cp_union = gpd.GeoDataFrame(\n",
    "    dfbus.loc[:, [c for c in dfbus.columns if c != \"geometry\"]],\n",
    "    geometry=gpd.GeoSeries.from_wkt(dfbus[\"geometry\"]),\n",
    "    crs=\"epsg:4326\",\n",
    "    )\n",
    "    dfjoin = gpd.sjoin(cp_union,zonasgpd,how='left')\n",
    "    dfjoin['DATE'] = pd.to_datetime(dfjoin['DATE'],format = '%m-%d-%Y %H:%M:%S')\n",
    "    dfjoin['OBJECTID_right']=dfjoin['OBJECTID_right'].astype(str)\n",
    "    dfjoin = dfjoin.sort_values(by=['DATE','OBJECTID_right'])\n",
    "    final_df = pd.merge_asof(dfjoin,chuva,on=['DATE'],left_by = ['OBJECTID_right'],right_by = ['id_estacao'],direction = 'forward')\n",
    "    df_result = pd.DataFrame(final_df.drop(columns='geometry'))\n",
    "    df_result['OBJECTID_right']=dfjoin['OBJECTID_right'].astype(str)\n",
    "    df_result['INTERVAL'] = df_result['INTERVAL'].astype(str)\n",
    "    df_result['horario'] = df_result['horario'].astype(str)\n",
    "    df_result.to_parquet('/home/vinicius.vancellote/data/parquet/join/' + all_files[elem],engine='fastparquet')\n",
    "    print(all_files[elem])"
   ]
  },
  {
   "cell_type": "code",
   "execution_count": null,
   "id": "eb4c6975",
   "metadata": {},
   "outputs": [],
   "source": [
    "chuva.dtypes"
   ]
  },
  {
   "cell_type": "code",
   "execution_count": null,
   "id": "8846adfb",
   "metadata": {},
   "outputs": [],
   "source": [
    "df_result.dtypes"
   ]
  },
  {
   "cell_type": "code",
   "execution_count": null,
   "id": "97f5f7af",
   "metadata": {},
   "outputs": [],
   "source": [
    "print(df_result[160:164])"
   ]
  },
  {
   "cell_type": "code",
   "execution_count": null,
   "id": "6a18fde2",
   "metadata": {},
   "outputs": [],
   "source": []
  }
 ],
 "metadata": {
  "kernelspec": {
   "display_name": "Python 3",
   "language": "python",
   "name": "python3"
  },
  "language_info": {
   "codemirror_mode": {
    "name": "ipython",
    "version": 3
   },
   "file_extension": ".py",
   "mimetype": "text/x-python",
   "name": "python",
   "nbconvert_exporter": "python",
   "pygments_lexer": "ipython3",
   "version": "3.8.10"
  }
 },
 "nbformat": 4,
 "nbformat_minor": 5
}
