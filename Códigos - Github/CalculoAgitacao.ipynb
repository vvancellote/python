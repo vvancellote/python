{
 "cells": [
  {
   "cell_type": "code",
   "execution_count": 1,
   "id": "159179ba",
   "metadata": {},
   "outputs": [
    {
     "name": "stderr",
     "output_type": "stream",
     "text": [
      "/home/vinicius.vancellote/.local/lib/python3.8/site-packages/geopandas/_compat.py:112: UserWarning: The Shapely GEOS version (3.10.2-CAPI-1.16.0) is incompatible with the GEOS version PyGEOS was compiled with (3.10.1-CAPI-1.16.0). Conversions between both will be slow.\n",
      "  warnings.warn(\n"
     ]
    }
   ],
   "source": [
    "#importando as bibliotecas\n",
    "import folium\n",
    "import json\n",
    "import pandas as pd\n",
    "from pandas import json_normalize\n",
    "import geopandas as gpd\n",
    "import xml.etree.cElementTree as etree\n",
    "import matplotlib.pyplot as plt\n",
    "from shapely.geometry import Point\n",
    "from shapely.geometry.polygon import Polygon\n",
    "from haversine import haversine\n",
    "import numpy as np\n",
    "import os\n",
    "import matplotlib.pyplot as plt"
   ]
  },
  {
   "cell_type": "code",
   "execution_count": 2,
   "id": "c6aa262e",
   "metadata": {},
   "outputs": [],
   "source": [
    "# Abrindo o Arquivo GeoJson com o limite das Zonas Pluviometricas\n",
    "zonasgpd = gpd.read_file('/home/vinicius.vancellote/Codigos_Python/Bases/EstacoesPluviometricas/Zonas_Pluviometricas.geojson')"
   ]
  },
  {
   "cell_type": "code",
   "execution_count": 3,
   "id": "adbe4096",
   "metadata": {},
   "outputs": [],
   "source": [
    "zonasgpd2 = zonasgpd[['OBJECTID','geometry']]"
   ]
  },
  {
   "cell_type": "code",
   "execution_count": 4,
   "id": "8736df62",
   "metadata": {},
   "outputs": [],
   "source": [
    "# ler todos os arquivos csv do diretório e guardar em um objeto\n",
    "all_files = os.listdir('/home/vinicius.vancellote/data/json')"
   ]
  },
  {
   "cell_type": "code",
   "execution_count": 5,
   "id": "83a628be",
   "metadata": {},
   "outputs": [],
   "source": [
    "del all_files[1]"
   ]
  },
  {
   "cell_type": "code",
   "execution_count": 6,
   "id": "4d9f8f07",
   "metadata": {},
   "outputs": [
    {
     "data": {
      "text/plain": [
       "['G1-2019-05-28.json',\n",
       " 'G1-2019-03-10.json',\n",
       " 'G1-2019-03-26.json',\n",
       " 'G1-2019-04-06.json',\n",
       " 'G1-2019-05-22.json']"
      ]
     },
     "execution_count": 6,
     "metadata": {},
     "output_type": "execute_result"
    }
   ],
   "source": [
    "all_files"
   ]
  },
  {
   "cell_type": "code",
   "execution_count": 7,
   "id": "b507cb15",
   "metadata": {},
   "outputs": [],
   "source": [
    "#realizar a leitura para cada arquivo\n",
    "full_dataset = []\n",
    "for elem in all_files:\n",
    "    data = pd.read_json('/home/vinicius.vancellote/data/json/'+ elem)\n",
    "    full_dataset.append(data)"
   ]
  },
  {
   "cell_type": "code",
   "execution_count": 8,
   "id": "44bcf80c",
   "metadata": {},
   "outputs": [],
   "source": [
    "#Concatenando em um único Dataframe\n",
    "dfbus = pd.concat(full_dataset,axis=0,ignore_index=True)"
   ]
  },
  {
   "cell_type": "code",
   "execution_count": 9,
   "id": "56dcccce",
   "metadata": {},
   "outputs": [],
   "source": [
    "#Tratando para poder fazer o Join no GeoJson\n",
    "dfbus['LATITUDE'] = dfbus['LATITUDE'].astype(str)\n",
    "dfbus['LONGITUDE'] = dfbus['LONGITUDE'].astype(str)"
   ]
  },
  {
   "cell_type": "code",
   "execution_count": 10,
   "id": "9201da4c",
   "metadata": {},
   "outputs": [],
   "source": [
    "#Criando uma coluna chamada Geometry para ficar similar ao GeoJson\n",
    "dfbus = dfbus.assign(geometry = ('POINT Z (' + dfbus['LONGITUDE'] + ' ' + dfbus['LATITUDE'] + ' ' + '0.00000)'))"
   ]
  },
  {
   "cell_type": "code",
   "execution_count": 11,
   "id": "9b2e9c03",
   "metadata": {},
   "outputs": [],
   "source": [
    "#Transformando o dfbus em um GeoJson com a mesma codificação do ZonasPluviometricas\n",
    "cp_union = gpd.GeoDataFrame(\n",
    "    dfbus.loc[:, [c for c in dfbus.columns if c != \"geometry\"]],\n",
    "    geometry=gpd.GeoSeries.from_wkt(dfbus[\"geometry\"]),\n",
    "    crs=\"epsg:4326\",\n",
    ")"
   ]
  },
  {
   "cell_type": "code",
   "execution_count": 12,
   "id": "23ffb2d3",
   "metadata": {},
   "outputs": [],
   "source": [
    "dfjoin = gpd.sjoin(cp_union,zonasgpd2,how='left')"
   ]
  },
  {
   "cell_type": "code",
   "execution_count": 13,
   "id": "db901cd0",
   "metadata": {},
   "outputs": [],
   "source": [
    "#dfjoin"
   ]
  },
  {
   "cell_type": "code",
   "execution_count": 14,
   "id": "ada9313a",
   "metadata": {},
   "outputs": [],
   "source": [
    "#dfjoin.dtypes"
   ]
  },
  {
   "cell_type": "code",
   "execution_count": 15,
   "id": "a941416d",
   "metadata": {},
   "outputs": [],
   "source": [
    "dfjoin['Data'] = pd.to_datetime(dfjoin['DATE']).dt.normalize()"
   ]
  },
  {
   "cell_type": "code",
   "execution_count": 16,
   "id": "72c5b292",
   "metadata": {},
   "outputs": [],
   "source": [
    "dfjoin['Hora']=dfjoin['DATE'].dt.hour"
   ]
  },
  {
   "cell_type": "code",
   "execution_count": 17,
   "id": "7af10343",
   "metadata": {},
   "outputs": [],
   "source": [
    "dfout = dfjoin[dfjoin['OBJECTID'].isnull()]"
   ]
  },
  {
   "cell_type": "code",
   "execution_count": 18,
   "id": "c2b36371",
   "metadata": {},
   "outputs": [
    {
     "data": {
      "text/html": [
       "<div>\n",
       "<style scoped>\n",
       "    .dataframe tbody tr th:only-of-type {\n",
       "        vertical-align: middle;\n",
       "    }\n",
       "\n",
       "    .dataframe tbody tr th {\n",
       "        vertical-align: top;\n",
       "    }\n",
       "\n",
       "    .dataframe thead th {\n",
       "        text-align: right;\n",
       "    }\n",
       "</style>\n",
       "<table border=\"1\" class=\"dataframe\">\n",
       "  <thead>\n",
       "    <tr style=\"text-align: right;\">\n",
       "      <th></th>\n",
       "      <th>df_index</th>\n",
       "      <th>DATE</th>\n",
       "      <th>BUSID</th>\n",
       "      <th>LINE</th>\n",
       "      <th>LATITUDE</th>\n",
       "      <th>LONGITUDE</th>\n",
       "      <th>Distancia</th>\n",
       "      <th>VELOCITY</th>\n",
       "      <th>geometry</th>\n",
       "      <th>index_right</th>\n",
       "      <th>OBJECTID</th>\n",
       "      <th>Data</th>\n",
       "      <th>Hora</th>\n",
       "    </tr>\n",
       "  </thead>\n",
       "  <tbody>\n",
       "    <tr>\n",
       "      <th>15816</th>\n",
       "      <td>2750461</td>\n",
       "      <td>2019-05-28 13:55:05</td>\n",
       "      <td>A27566</td>\n",
       "      <td>548.0</td>\n",
       "      <td>-23.006281</td>\n",
       "      <td>-43.281441</td>\n",
       "      <td>2025.631819</td>\n",
       "      <td>75.0</td>\n",
       "      <td>POINT Z (-43.28144 -23.00628 0.00000)</td>\n",
       "      <td>NaN</td>\n",
       "      <td>NaN</td>\n",
       "      <td>2019-05-28</td>\n",
       "      <td>13</td>\n",
       "    </tr>\n",
       "    <tr>\n",
       "      <th>48449</th>\n",
       "      <td>2283763</td>\n",
       "      <td>2019-05-28 05:25:32</td>\n",
       "      <td>A29005</td>\n",
       "      <td>SP513</td>\n",
       "      <td>-22.948</td>\n",
       "      <td>-43.165081</td>\n",
       "      <td>52.789923</td>\n",
       "      <td>20.0</td>\n",
       "      <td>POINT Z (-43.16508 -22.94800 0.00000)</td>\n",
       "      <td>NaN</td>\n",
       "      <td>NaN</td>\n",
       "      <td>2019-05-28</td>\n",
       "      <td>5</td>\n",
       "    </tr>\n",
       "    <tr>\n",
       "      <th>48475</th>\n",
       "      <td>3936792</td>\n",
       "      <td>2019-05-28 06:27:03</td>\n",
       "      <td>A29005</td>\n",
       "      <td>SP513</td>\n",
       "      <td>-22.94591</td>\n",
       "      <td>-43.163639</td>\n",
       "      <td>113.719086</td>\n",
       "      <td>24.0</td>\n",
       "      <td>POINT Z (-43.16364 -22.94591 0.00000)</td>\n",
       "      <td>NaN</td>\n",
       "      <td>NaN</td>\n",
       "      <td>2019-05-28</td>\n",
       "      <td>6</td>\n",
       "    </tr>\n",
       "    <tr>\n",
       "      <th>48477</th>\n",
       "      <td>3212680</td>\n",
       "      <td>2019-05-28 06:28:41</td>\n",
       "      <td>A29005</td>\n",
       "      <td>SP513</td>\n",
       "      <td>-22.94816</td>\n",
       "      <td>-43.165291</td>\n",
       "      <td>174.005864</td>\n",
       "      <td>29.0</td>\n",
       "      <td>POINT Z (-43.16529 -22.94816 0.00000)</td>\n",
       "      <td>NaN</td>\n",
       "      <td>NaN</td>\n",
       "      <td>2019-05-28</td>\n",
       "      <td>6</td>\n",
       "    </tr>\n",
       "    <tr>\n",
       "      <th>48478</th>\n",
       "      <td>1845903</td>\n",
       "      <td>2019-05-28 06:29:49</td>\n",
       "      <td>A29005</td>\n",
       "      <td>SP513</td>\n",
       "      <td>-22.9515</td>\n",
       "      <td>-43.168678</td>\n",
       "      <td>508.140644</td>\n",
       "      <td>23.0</td>\n",
       "      <td>POINT Z (-43.16868 -22.95150 0.00000)</td>\n",
       "      <td>NaN</td>\n",
       "      <td>NaN</td>\n",
       "      <td>2019-05-28</td>\n",
       "      <td>6</td>\n",
       "    </tr>\n",
       "    <tr>\n",
       "      <th>...</th>\n",
       "      <td>...</td>\n",
       "      <td>...</td>\n",
       "      <td>...</td>\n",
       "      <td>...</td>\n",
       "      <td>...</td>\n",
       "      <td>...</td>\n",
       "      <td>...</td>\n",
       "      <td>...</td>\n",
       "      <td>...</td>\n",
       "      <td>...</td>\n",
       "      <td>...</td>\n",
       "      <td>...</td>\n",
       "      <td>...</td>\n",
       "    </tr>\n",
       "    <tr>\n",
       "      <th>17732069</th>\n",
       "      <td>408421</td>\n",
       "      <td>2019-05-22 13:51:41</td>\n",
       "      <td>D87362</td>\n",
       "      <td>898.0</td>\n",
       "      <td>-22.987190000000002</td>\n",
       "      <td>-43.688419</td>\n",
       "      <td>259.356007</td>\n",
       "      <td>1.0</td>\n",
       "      <td>POINT Z (-43.68842 -22.98719 0.00000)</td>\n",
       "      <td>NaN</td>\n",
       "      <td>NaN</td>\n",
       "      <td>2019-05-22</td>\n",
       "      <td>13</td>\n",
       "    </tr>\n",
       "    <tr>\n",
       "      <th>17732623</th>\n",
       "      <td>1528439</td>\n",
       "      <td>2019-05-22 12:01:18</td>\n",
       "      <td>D87395</td>\n",
       "      <td>898.0</td>\n",
       "      <td>-22.98715</td>\n",
       "      <td>-43.688389</td>\n",
       "      <td>610.949834</td>\n",
       "      <td>4.0</td>\n",
       "      <td>POINT Z (-43.68839 -22.98715 0.00000)</td>\n",
       "      <td>NaN</td>\n",
       "      <td>NaN</td>\n",
       "      <td>2019-05-22</td>\n",
       "      <td>12</td>\n",
       "    </tr>\n",
       "    <tr>\n",
       "      <th>17733272</th>\n",
       "      <td>3894562</td>\n",
       "      <td>2019-05-22 04:09:55</td>\n",
       "      <td>D87396</td>\n",
       "      <td></td>\n",
       "      <td>-22.9877</td>\n",
       "      <td>-43.688782</td>\n",
       "      <td>244.616534</td>\n",
       "      <td>24.0</td>\n",
       "      <td>POINT Z (-43.68878 -22.98770 0.00000)</td>\n",
       "      <td>NaN</td>\n",
       "      <td>NaN</td>\n",
       "      <td>2019-05-22</td>\n",
       "      <td>4</td>\n",
       "    </tr>\n",
       "    <tr>\n",
       "      <th>17733570</th>\n",
       "      <td>3173960</td>\n",
       "      <td>2019-05-22 09:40:38</td>\n",
       "      <td>D87396</td>\n",
       "      <td>898.0</td>\n",
       "      <td>-22.987190000000002</td>\n",
       "      <td>-43.6884</td>\n",
       "      <td>36.578985</td>\n",
       "      <td>0.0</td>\n",
       "      <td>POINT Z (-43.68840 -22.98719 0.00000)</td>\n",
       "      <td>NaN</td>\n",
       "      <td>NaN</td>\n",
       "      <td>2019-05-22</td>\n",
       "      <td>9</td>\n",
       "    </tr>\n",
       "    <tr>\n",
       "      <th>17737931</th>\n",
       "      <td>2643812</td>\n",
       "      <td>2019-05-22 17:20:28</td>\n",
       "      <td>D87703</td>\n",
       "      <td>2336.0</td>\n",
       "      <td>-22.88748</td>\n",
       "      <td>-43.170368</td>\n",
       "      <td>2245.477541</td>\n",
       "      <td>16.0</td>\n",
       "      <td>POINT Z (-43.17037 -22.88748 0.00000)</td>\n",
       "      <td>NaN</td>\n",
       "      <td>NaN</td>\n",
       "      <td>2019-05-22</td>\n",
       "      <td>17</td>\n",
       "    </tr>\n",
       "  </tbody>\n",
       "</table>\n",
       "<p>266928 rows × 13 columns</p>\n",
       "</div>"
      ],
      "text/plain": [
       "          df_index                DATE   BUSID    LINE             LATITUDE  \\\n",
       "15816      2750461 2019-05-28 13:55:05  A27566   548.0           -23.006281   \n",
       "48449      2283763 2019-05-28 05:25:32  A29005   SP513              -22.948   \n",
       "48475      3936792 2019-05-28 06:27:03  A29005   SP513            -22.94591   \n",
       "48477      3212680 2019-05-28 06:28:41  A29005   SP513            -22.94816   \n",
       "48478      1845903 2019-05-28 06:29:49  A29005   SP513             -22.9515   \n",
       "...            ...                 ...     ...     ...                  ...   \n",
       "17732069    408421 2019-05-22 13:51:41  D87362   898.0  -22.987190000000002   \n",
       "17732623   1528439 2019-05-22 12:01:18  D87395   898.0            -22.98715   \n",
       "17733272   3894562 2019-05-22 04:09:55  D87396                     -22.9877   \n",
       "17733570   3173960 2019-05-22 09:40:38  D87396   898.0  -22.987190000000002   \n",
       "17737931   2643812 2019-05-22 17:20:28  D87703  2336.0            -22.88748   \n",
       "\n",
       "           LONGITUDE    Distancia  VELOCITY  \\\n",
       "15816     -43.281441  2025.631819      75.0   \n",
       "48449     -43.165081    52.789923      20.0   \n",
       "48475     -43.163639   113.719086      24.0   \n",
       "48477     -43.165291   174.005864      29.0   \n",
       "48478     -43.168678   508.140644      23.0   \n",
       "...              ...          ...       ...   \n",
       "17732069  -43.688419   259.356007       1.0   \n",
       "17732623  -43.688389   610.949834       4.0   \n",
       "17733272  -43.688782   244.616534      24.0   \n",
       "17733570    -43.6884    36.578985       0.0   \n",
       "17737931  -43.170368  2245.477541      16.0   \n",
       "\n",
       "                                       geometry  index_right  OBJECTID  \\\n",
       "15816     POINT Z (-43.28144 -23.00628 0.00000)          NaN       NaN   \n",
       "48449     POINT Z (-43.16508 -22.94800 0.00000)          NaN       NaN   \n",
       "48475     POINT Z (-43.16364 -22.94591 0.00000)          NaN       NaN   \n",
       "48477     POINT Z (-43.16529 -22.94816 0.00000)          NaN       NaN   \n",
       "48478     POINT Z (-43.16868 -22.95150 0.00000)          NaN       NaN   \n",
       "...                                         ...          ...       ...   \n",
       "17732069  POINT Z (-43.68842 -22.98719 0.00000)          NaN       NaN   \n",
       "17732623  POINT Z (-43.68839 -22.98715 0.00000)          NaN       NaN   \n",
       "17733272  POINT Z (-43.68878 -22.98770 0.00000)          NaN       NaN   \n",
       "17733570  POINT Z (-43.68840 -22.98719 0.00000)          NaN       NaN   \n",
       "17737931  POINT Z (-43.17037 -22.88748 0.00000)          NaN       NaN   \n",
       "\n",
       "               Data  Hora  \n",
       "15816    2019-05-28    13  \n",
       "48449    2019-05-28     5  \n",
       "48475    2019-05-28     6  \n",
       "48477    2019-05-28     6  \n",
       "48478    2019-05-28     6  \n",
       "...             ...   ...  \n",
       "17732069 2019-05-22    13  \n",
       "17732623 2019-05-22    12  \n",
       "17733272 2019-05-22     4  \n",
       "17733570 2019-05-22     9  \n",
       "17737931 2019-05-22    17  \n",
       "\n",
       "[266928 rows x 13 columns]"
      ]
     },
     "execution_count": 18,
     "metadata": {},
     "output_type": "execute_result"
    }
   ],
   "source": [
    "dfout"
   ]
  },
  {
   "cell_type": "code",
   "execution_count": 19,
   "id": "ac4277b2",
   "metadata": {},
   "outputs": [],
   "source": [
    "dfRJ = dfjoin[dfjoin['OBJECTID'].notnull()]"
   ]
  },
  {
   "cell_type": "code",
   "execution_count": 34,
   "id": "b58c93d9",
   "metadata": {},
   "outputs": [
    {
     "data": {
      "text/html": [
       "<div>\n",
       "<style scoped>\n",
       "    .dataframe tbody tr th:only-of-type {\n",
       "        vertical-align: middle;\n",
       "    }\n",
       "\n",
       "    .dataframe tbody tr th {\n",
       "        vertical-align: top;\n",
       "    }\n",
       "\n",
       "    .dataframe thead th {\n",
       "        text-align: right;\n",
       "    }\n",
       "</style>\n",
       "<table border=\"1\" class=\"dataframe\">\n",
       "  <thead>\n",
       "    <tr style=\"text-align: right;\">\n",
       "      <th></th>\n",
       "      <th>df_index</th>\n",
       "      <th>DATE</th>\n",
       "      <th>BUSID</th>\n",
       "      <th>LINE</th>\n",
       "      <th>LATITUDE</th>\n",
       "      <th>LONGITUDE</th>\n",
       "      <th>Distancia</th>\n",
       "      <th>VELOCITY</th>\n",
       "      <th>geometry</th>\n",
       "      <th>index_right</th>\n",
       "      <th>OBJECTID</th>\n",
       "      <th>Data</th>\n",
       "      <th>Hora</th>\n",
       "    </tr>\n",
       "  </thead>\n",
       "  <tbody>\n",
       "    <tr>\n",
       "      <th>0</th>\n",
       "      <td>2480330</td>\n",
       "      <td>2019-05-28 00:23:42</td>\n",
       "      <td>A27506</td>\n",
       "      <td>439.0</td>\n",
       "      <td>-22.91995</td>\n",
       "      <td>-43.256618</td>\n",
       "      <td>0.000000</td>\n",
       "      <td>0.0</td>\n",
       "      <td>POINT Z (-43.25662 -22.91995 0.00000)</td>\n",
       "      <td>6.0</td>\n",
       "      <td>7.0</td>\n",
       "      <td>2019-05-28</td>\n",
       "      <td>0</td>\n",
       "    </tr>\n",
       "    <tr>\n",
       "      <th>1</th>\n",
       "      <td>2471253</td>\n",
       "      <td>2019-05-28 00:24:42</td>\n",
       "      <td>A27506</td>\n",
       "      <td>439.0</td>\n",
       "      <td>-22.91995</td>\n",
       "      <td>-43.256618</td>\n",
       "      <td>0.000000</td>\n",
       "      <td>0.0</td>\n",
       "      <td>POINT Z (-43.25662 -22.91995 0.00000)</td>\n",
       "      <td>6.0</td>\n",
       "      <td>7.0</td>\n",
       "      <td>2019-05-28</td>\n",
       "      <td>0</td>\n",
       "    </tr>\n",
       "    <tr>\n",
       "      <th>2</th>\n",
       "      <td>4066229</td>\n",
       "      <td>2019-05-28 00:25:41</td>\n",
       "      <td>A27506</td>\n",
       "      <td>439.0</td>\n",
       "      <td>-22.91995</td>\n",
       "      <td>-43.256618</td>\n",
       "      <td>0.000000</td>\n",
       "      <td>0.0</td>\n",
       "      <td>POINT Z (-43.25662 -22.91995 0.00000)</td>\n",
       "      <td>6.0</td>\n",
       "      <td>7.0</td>\n",
       "      <td>2019-05-28</td>\n",
       "      <td>0</td>\n",
       "    </tr>\n",
       "    <tr>\n",
       "      <th>3</th>\n",
       "      <td>2279978</td>\n",
       "      <td>2019-05-28 00:26:41</td>\n",
       "      <td>A27506</td>\n",
       "      <td>439.0</td>\n",
       "      <td>-22.91995</td>\n",
       "      <td>-43.256618</td>\n",
       "      <td>0.000000</td>\n",
       "      <td>0.0</td>\n",
       "      <td>POINT Z (-43.25662 -22.91995 0.00000)</td>\n",
       "      <td>6.0</td>\n",
       "      <td>7.0</td>\n",
       "      <td>2019-05-28</td>\n",
       "      <td>0</td>\n",
       "    </tr>\n",
       "    <tr>\n",
       "      <th>4</th>\n",
       "      <td>2963761</td>\n",
       "      <td>2019-05-28 00:27:41</td>\n",
       "      <td>A27506</td>\n",
       "      <td>439.0</td>\n",
       "      <td>-22.91995</td>\n",
       "      <td>-43.256618</td>\n",
       "      <td>0.000000</td>\n",
       "      <td>0.0</td>\n",
       "      <td>POINT Z (-43.25662 -22.91995 0.00000)</td>\n",
       "      <td>6.0</td>\n",
       "      <td>7.0</td>\n",
       "      <td>2019-05-28</td>\n",
       "      <td>0</td>\n",
       "    </tr>\n",
       "    <tr>\n",
       "      <th>...</th>\n",
       "      <td>...</td>\n",
       "      <td>...</td>\n",
       "      <td>...</td>\n",
       "      <td>...</td>\n",
       "      <td>...</td>\n",
       "      <td>...</td>\n",
       "      <td>...</td>\n",
       "      <td>...</td>\n",
       "      <td>...</td>\n",
       "      <td>...</td>\n",
       "      <td>...</td>\n",
       "      <td>...</td>\n",
       "      <td>...</td>\n",
       "    </tr>\n",
       "    <tr>\n",
       "      <th>17780048</th>\n",
       "      <td>3614919</td>\n",
       "      <td>2019-05-22 21:48:13</td>\n",
       "      <td>D87894</td>\n",
       "      <td>2307.0</td>\n",
       "      <td>-22.917191</td>\n",
       "      <td>-43.60849</td>\n",
       "      <td>0.000000</td>\n",
       "      <td>39.0</td>\n",
       "      <td>POINT Z (-43.60849 -22.91719 0.00000)</td>\n",
       "      <td>25.0</td>\n",
       "      <td>26.0</td>\n",
       "      <td>2019-05-22</td>\n",
       "      <td>21</td>\n",
       "    </tr>\n",
       "    <tr>\n",
       "      <th>17780049</th>\n",
       "      <td>2141194</td>\n",
       "      <td>2019-05-22 22:18:13</td>\n",
       "      <td>D87894</td>\n",
       "      <td>2307.0</td>\n",
       "      <td>-22.917191</td>\n",
       "      <td>-43.60849</td>\n",
       "      <td>0.000000</td>\n",
       "      <td>39.0</td>\n",
       "      <td>POINT Z (-43.60849 -22.91719 0.00000)</td>\n",
       "      <td>25.0</td>\n",
       "      <td>26.0</td>\n",
       "      <td>2019-05-22</td>\n",
       "      <td>22</td>\n",
       "    </tr>\n",
       "    <tr>\n",
       "      <th>17780050</th>\n",
       "      <td>2654219</td>\n",
       "      <td>2019-05-22 22:48:13</td>\n",
       "      <td>D87894</td>\n",
       "      <td>2307.0</td>\n",
       "      <td>-22.917259</td>\n",
       "      <td>-43.608398</td>\n",
       "      <td>12.081220</td>\n",
       "      <td>0.0</td>\n",
       "      <td>POINT Z (-43.60840 -22.91726 0.00000)</td>\n",
       "      <td>25.0</td>\n",
       "      <td>26.0</td>\n",
       "      <td>2019-05-22</td>\n",
       "      <td>22</td>\n",
       "    </tr>\n",
       "    <tr>\n",
       "      <th>17780051</th>\n",
       "      <td>2512102</td>\n",
       "      <td>2019-05-22 23:18:13</td>\n",
       "      <td>D87894</td>\n",
       "      <td>2307.0</td>\n",
       "      <td>-22.91716</td>\n",
       "      <td>-43.608501</td>\n",
       "      <td>15.246839</td>\n",
       "      <td>0.0</td>\n",
       "      <td>POINT Z (-43.60850 -22.91716 0.00000)</td>\n",
       "      <td>25.0</td>\n",
       "      <td>26.0</td>\n",
       "      <td>2019-05-22</td>\n",
       "      <td>23</td>\n",
       "    </tr>\n",
       "    <tr>\n",
       "      <th>17780052</th>\n",
       "      <td>3750208</td>\n",
       "      <td>2019-05-22 23:48:13</td>\n",
       "      <td>D87894</td>\n",
       "      <td>2307.0</td>\n",
       "      <td>-22.91716</td>\n",
       "      <td>-43.608501</td>\n",
       "      <td>0.000000</td>\n",
       "      <td>0.0</td>\n",
       "      <td>POINT Z (-43.60850 -22.91716 0.00000)</td>\n",
       "      <td>25.0</td>\n",
       "      <td>26.0</td>\n",
       "      <td>2019-05-22</td>\n",
       "      <td>23</td>\n",
       "    </tr>\n",
       "  </tbody>\n",
       "</table>\n",
       "<p>17513125 rows × 13 columns</p>\n",
       "</div>"
      ],
      "text/plain": [
       "          df_index                DATE   BUSID    LINE    LATITUDE  \\\n",
       "0          2480330 2019-05-28 00:23:42  A27506   439.0   -22.91995   \n",
       "1          2471253 2019-05-28 00:24:42  A27506   439.0   -22.91995   \n",
       "2          4066229 2019-05-28 00:25:41  A27506   439.0   -22.91995   \n",
       "3          2279978 2019-05-28 00:26:41  A27506   439.0   -22.91995   \n",
       "4          2963761 2019-05-28 00:27:41  A27506   439.0   -22.91995   \n",
       "...            ...                 ...     ...     ...         ...   \n",
       "17780048   3614919 2019-05-22 21:48:13  D87894  2307.0  -22.917191   \n",
       "17780049   2141194 2019-05-22 22:18:13  D87894  2307.0  -22.917191   \n",
       "17780050   2654219 2019-05-22 22:48:13  D87894  2307.0  -22.917259   \n",
       "17780051   2512102 2019-05-22 23:18:13  D87894  2307.0   -22.91716   \n",
       "17780052   3750208 2019-05-22 23:48:13  D87894  2307.0   -22.91716   \n",
       "\n",
       "           LONGITUDE  Distancia  VELOCITY  \\\n",
       "0         -43.256618   0.000000       0.0   \n",
       "1         -43.256618   0.000000       0.0   \n",
       "2         -43.256618   0.000000       0.0   \n",
       "3         -43.256618   0.000000       0.0   \n",
       "4         -43.256618   0.000000       0.0   \n",
       "...              ...        ...       ...   \n",
       "17780048   -43.60849   0.000000      39.0   \n",
       "17780049   -43.60849   0.000000      39.0   \n",
       "17780050  -43.608398  12.081220       0.0   \n",
       "17780051  -43.608501  15.246839       0.0   \n",
       "17780052  -43.608501   0.000000       0.0   \n",
       "\n",
       "                                       geometry  index_right  OBJECTID  \\\n",
       "0         POINT Z (-43.25662 -22.91995 0.00000)          6.0       7.0   \n",
       "1         POINT Z (-43.25662 -22.91995 0.00000)          6.0       7.0   \n",
       "2         POINT Z (-43.25662 -22.91995 0.00000)          6.0       7.0   \n",
       "3         POINT Z (-43.25662 -22.91995 0.00000)          6.0       7.0   \n",
       "4         POINT Z (-43.25662 -22.91995 0.00000)          6.0       7.0   \n",
       "...                                         ...          ...       ...   \n",
       "17780048  POINT Z (-43.60849 -22.91719 0.00000)         25.0      26.0   \n",
       "17780049  POINT Z (-43.60849 -22.91719 0.00000)         25.0      26.0   \n",
       "17780050  POINT Z (-43.60840 -22.91726 0.00000)         25.0      26.0   \n",
       "17780051  POINT Z (-43.60850 -22.91716 0.00000)         25.0      26.0   \n",
       "17780052  POINT Z (-43.60850 -22.91716 0.00000)         25.0      26.0   \n",
       "\n",
       "               Data  Hora  \n",
       "0        2019-05-28     0  \n",
       "1        2019-05-28     0  \n",
       "2        2019-05-28     0  \n",
       "3        2019-05-28     0  \n",
       "4        2019-05-28     0  \n",
       "...             ...   ...  \n",
       "17780048 2019-05-22    21  \n",
       "17780049 2019-05-22    22  \n",
       "17780050 2019-05-22    22  \n",
       "17780051 2019-05-22    23  \n",
       "17780052 2019-05-22    23  \n",
       "\n",
       "[17513125 rows x 13 columns]"
      ]
     },
     "execution_count": 34,
     "metadata": {},
     "output_type": "execute_result"
    }
   ],
   "source": [
    "dfRJ"
   ]
  },
  {
   "cell_type": "code",
   "execution_count": 32,
   "id": "4a9d5ddb",
   "metadata": {},
   "outputs": [],
   "source": [
    "dfgroup = dfRJ.groupby([\"Data\"],as_index=False)[\"Distancia\"].sum()"
   ]
  },
  {
   "cell_type": "code",
   "execution_count": 33,
   "id": "29b441fa",
   "metadata": {},
   "outputs": [
    {
     "data": {
      "text/html": [
       "<div>\n",
       "<style scoped>\n",
       "    .dataframe tbody tr th:only-of-type {\n",
       "        vertical-align: middle;\n",
       "    }\n",
       "\n",
       "    .dataframe tbody tr th {\n",
       "        vertical-align: top;\n",
       "    }\n",
       "\n",
       "    .dataframe thead th {\n",
       "        text-align: right;\n",
       "    }\n",
       "</style>\n",
       "<table border=\"1\" class=\"dataframe\">\n",
       "  <thead>\n",
       "    <tr style=\"text-align: right;\">\n",
       "      <th></th>\n",
       "      <th>Data</th>\n",
       "      <th>Distancia</th>\n",
       "    </tr>\n",
       "  </thead>\n",
       "  <tbody>\n",
       "    <tr>\n",
       "      <th>0</th>\n",
       "      <td>2019-03-10</td>\n",
       "      <td>8.225354e+07</td>\n",
       "    </tr>\n",
       "    <tr>\n",
       "      <th>1</th>\n",
       "      <td>2019-03-26</td>\n",
       "      <td>1.153822e+09</td>\n",
       "    </tr>\n",
       "    <tr>\n",
       "      <th>2</th>\n",
       "      <td>2019-04-06</td>\n",
       "      <td>8.884546e+08</td>\n",
       "    </tr>\n",
       "    <tr>\n",
       "      <th>3</th>\n",
       "      <td>2019-05-22</td>\n",
       "      <td>1.139344e+09</td>\n",
       "    </tr>\n",
       "    <tr>\n",
       "      <th>4</th>\n",
       "      <td>2019-05-28</td>\n",
       "      <td>1.162067e+09</td>\n",
       "    </tr>\n",
       "  </tbody>\n",
       "</table>\n",
       "</div>"
      ],
      "text/plain": [
       "        Data     Distancia\n",
       "0 2019-03-10  8.225354e+07\n",
       "1 2019-03-26  1.153822e+09\n",
       "2 2019-04-06  8.884546e+08\n",
       "3 2019-05-22  1.139344e+09\n",
       "4 2019-05-28  1.162067e+09"
      ]
     },
     "execution_count": 33,
     "metadata": {},
     "output_type": "execute_result"
    }
   ],
   "source": [
    "dfgroup"
   ]
  },
  {
   "cell_type": "code",
   "execution_count": 22,
   "id": "68bb91ba",
   "metadata": {},
   "outputs": [],
   "source": [
    "dfgroupbom = dfgroup[(dfgroup[\"Data\"]=='2019-03-30')| (dfgroup[\"Data\"]=='2019-04-06') | (dfgroup[\"Data\"]=='2019-05-22') | (dfgroup[\"Data\"]=='2019-05-28')]"
   ]
  },
  {
   "cell_type": "code",
   "execution_count": 36,
   "id": "dd941c8e",
   "metadata": {},
   "outputs": [
    {
     "name": "stderr",
     "output_type": "stream",
     "text": [
      "/tmp/ipykernel_22004/2449837811.py:1: FutureWarning: DataFrame.mean and DataFrame.median with numeric_only=None will include datetime64 and datetime64tz columns in a future version.\n",
      "  dfgroupbom.mean()\n"
     ]
    },
    {
     "data": {
      "text/plain": [
       "OBJECTID     1.700000e+01\n",
       "Distancia    3.222086e+07\n",
       "dtype: float64"
      ]
     },
     "execution_count": 36,
     "metadata": {},
     "output_type": "execute_result"
    }
   ],
   "source": [
    "dfgroupbom.mean()"
   ]
  },
  {
   "cell_type": "code",
   "execution_count": 23,
   "id": "403597d7",
   "metadata": {},
   "outputs": [],
   "source": [
    "dfgroupruim = dfgroup[(dfgroup[\"Data\"]=='2019-03-10')| (dfgroup[\"Data\"]=='2019-03-26')]"
   ]
  },
  {
   "cell_type": "code",
   "execution_count": 37,
   "id": "39d91459",
   "metadata": {},
   "outputs": [
    {
     "name": "stderr",
     "output_type": "stream",
     "text": [
      "/tmp/ipykernel_22004/2014122078.py:1: FutureWarning: DataFrame.mean and DataFrame.median with numeric_only=None will include datetime64 and datetime64tz columns in a future version.\n",
      "  dfgroupruim.mean()\n"
     ]
    },
    {
     "data": {
      "text/plain": [
       "OBJECTID     1.700000e+01\n",
       "Distancia    1.872842e+07\n",
       "dtype: float64"
      ]
     },
     "execution_count": 37,
     "metadata": {},
     "output_type": "execute_result"
    }
   ],
   "source": [
    "dfgroupruim.mean()"
   ]
  },
  {
   "cell_type": "code",
   "execution_count": 38,
   "id": "d23029ed",
   "metadata": {},
   "outputs": [
    {
     "ename": "AttributeError",
     "evalue": "'DataFrame' object has no attribute 'stdev'",
     "output_type": "error",
     "traceback": [
      "\u001b[0;31m---------------------------------------------------------------------------\u001b[0m",
      "\u001b[0;31mAttributeError\u001b[0m                            Traceback (most recent call last)",
      "Input \u001b[0;32mIn [38]\u001b[0m, in \u001b[0;36m<cell line: 1>\u001b[0;34m()\u001b[0m\n\u001b[0;32m----> 1\u001b[0m \u001b[43mdfgroupruim\u001b[49m\u001b[38;5;241;43m.\u001b[39;49m\u001b[43mstdev\u001b[49m()\n",
      "File \u001b[0;32m/usr/local/lib/python3.8/dist-packages/pandas/core/generic.py:5575\u001b[0m, in \u001b[0;36mNDFrame.__getattr__\u001b[0;34m(self, name)\u001b[0m\n\u001b[1;32m   5568\u001b[0m \u001b[38;5;28;01mif\u001b[39;00m (\n\u001b[1;32m   5569\u001b[0m     name \u001b[38;5;129;01mnot\u001b[39;00m \u001b[38;5;129;01min\u001b[39;00m \u001b[38;5;28mself\u001b[39m\u001b[38;5;241m.\u001b[39m_internal_names_set\n\u001b[1;32m   5570\u001b[0m     \u001b[38;5;129;01mand\u001b[39;00m name \u001b[38;5;129;01mnot\u001b[39;00m \u001b[38;5;129;01min\u001b[39;00m \u001b[38;5;28mself\u001b[39m\u001b[38;5;241m.\u001b[39m_metadata\n\u001b[1;32m   5571\u001b[0m     \u001b[38;5;129;01mand\u001b[39;00m name \u001b[38;5;129;01mnot\u001b[39;00m \u001b[38;5;129;01min\u001b[39;00m \u001b[38;5;28mself\u001b[39m\u001b[38;5;241m.\u001b[39m_accessors\n\u001b[1;32m   5572\u001b[0m     \u001b[38;5;129;01mand\u001b[39;00m \u001b[38;5;28mself\u001b[39m\u001b[38;5;241m.\u001b[39m_info_axis\u001b[38;5;241m.\u001b[39m_can_hold_identifiers_and_holds_name(name)\n\u001b[1;32m   5573\u001b[0m ):\n\u001b[1;32m   5574\u001b[0m     \u001b[38;5;28;01mreturn\u001b[39;00m \u001b[38;5;28mself\u001b[39m[name]\n\u001b[0;32m-> 5575\u001b[0m \u001b[38;5;28;01mreturn\u001b[39;00m \u001b[38;5;28;43mobject\u001b[39;49m\u001b[38;5;241;43m.\u001b[39;49m\u001b[38;5;21;43m__getattribute__\u001b[39;49m\u001b[43m(\u001b[49m\u001b[38;5;28;43mself\u001b[39;49m\u001b[43m,\u001b[49m\u001b[43m \u001b[49m\u001b[43mname\u001b[49m\u001b[43m)\u001b[49m\n",
      "\u001b[0;31mAttributeError\u001b[0m: 'DataFrame' object has no attribute 'stdev'"
     ]
    }
   ],
   "source": [
    "dfgroupruim.stdev()"
   ]
  },
  {
   "cell_type": "code",
   "execution_count": 25,
   "id": "78154861",
   "metadata": {},
   "outputs": [],
   "source": [
    "dfgroup2 = dfRJ.groupby([\"Data\"],as_index=False)[\"Distancia\"].sum()"
   ]
  },
  {
   "cell_type": "code",
   "execution_count": 26,
   "id": "6cb07528",
   "metadata": {},
   "outputs": [
    {
     "data": {
      "text/plain": [
       "<BarContainer object of 99 artists>"
      ]
     },
     "execution_count": 26,
     "metadata": {},
     "output_type": "execute_result"
    },
    {
     "data": {
      "image/png": "[encoded data removed]",
      "text/plain": [
       "<Figure size 432x288 with 1 Axes>"
      ]
     },
     "metadata": {
      "needs_background": "light"
     },
     "output_type": "display_data"
    }
   ],
   "source": [
    "plt.bar(dfgroupbom[\"OBJECTID\"],dfgroupbom[\"Distancia\"])"
   ]
  },
  {
   "cell_type": "code",
   "execution_count": 27,
   "id": "05975565",
   "metadata": {},
   "outputs": [
    {
     "data": {
      "text/plain": [
       "<BarContainer object of 66 artists>"
      ]
     },
     "execution_count": 27,
     "metadata": {},
     "output_type": "execute_result"
    },
    {
     "data": {
      "image/png": "[encoded data removed]",
      "text/plain": [
       "<Figure size 432x288 with 1 Axes>"
      ]
     },
     "metadata": {
      "needs_background": "light"
     },
     "output_type": "display_data"
    }
   ],
   "source": [
    "plt.bar(dfgroupruim[\"OBJECTID\"],dfgroupruim[\"Distancia\"])"
   ]
  },
  {
   "cell_type": "code",
   "execution_count": 28,
   "id": "1d2745f5",
   "metadata": {},
   "outputs": [],
   "source": [
    "dfzona = dfgroup[dfgroup[\"OBJECTID\"]==12.0]"
   ]
  },
  {
   "cell_type": "code",
   "execution_count": 29,
   "id": "a550eebe",
   "metadata": {},
   "outputs": [
    {
     "data": {
      "text/html": [
       "<div>\n",
       "<style scoped>\n",
       "    .dataframe tbody tr th:only-of-type {\n",
       "        vertical-align: middle;\n",
       "    }\n",
       "\n",
       "    .dataframe tbody tr th {\n",
       "        vertical-align: top;\n",
       "    }\n",
       "\n",
       "    .dataframe thead th {\n",
       "        text-align: right;\n",
       "    }\n",
       "</style>\n",
       "<table border=\"1\" class=\"dataframe\">\n",
       "  <thead>\n",
       "    <tr style=\"text-align: right;\">\n",
       "      <th></th>\n",
       "      <th>Data</th>\n",
       "      <th>OBJECTID</th>\n",
       "      <th>Distancia</th>\n",
       "    </tr>\n",
       "  </thead>\n",
       "  <tbody>\n",
       "    <tr>\n",
       "      <th>11</th>\n",
       "      <td>2019-03-10</td>\n",
       "      <td>12.0</td>\n",
       "      <td>5.919786e+06</td>\n",
       "    </tr>\n",
       "    <tr>\n",
       "      <th>44</th>\n",
       "      <td>2019-03-26</td>\n",
       "      <td>12.0</td>\n",
       "      <td>6.553835e+07</td>\n",
       "    </tr>\n",
       "    <tr>\n",
       "      <th>77</th>\n",
       "      <td>2019-04-06</td>\n",
       "      <td>12.0</td>\n",
       "      <td>5.563484e+07</td>\n",
       "    </tr>\n",
       "    <tr>\n",
       "      <th>110</th>\n",
       "      <td>2019-05-22</td>\n",
       "      <td>12.0</td>\n",
       "      <td>6.525063e+07</td>\n",
       "    </tr>\n",
       "    <tr>\n",
       "      <th>143</th>\n",
       "      <td>2019-05-28</td>\n",
       "      <td>12.0</td>\n",
       "      <td>6.946818e+07</td>\n",
       "    </tr>\n",
       "  </tbody>\n",
       "</table>\n",
       "</div>"
      ],
      "text/plain": [
       "          Data  OBJECTID     Distancia\n",
       "11  2019-03-10      12.0  5.919786e+06\n",
       "44  2019-03-26      12.0  6.553835e+07\n",
       "77  2019-04-06      12.0  5.563484e+07\n",
       "110 2019-05-22      12.0  6.525063e+07\n",
       "143 2019-05-28      12.0  6.946818e+07"
      ]
     },
     "execution_count": 29,
     "metadata": {},
     "output_type": "execute_result"
    }
   ],
   "source": [
    "dfzona"
   ]
  },
  {
   "cell_type": "code",
   "execution_count": 30,
   "id": "daf0abf0",
   "metadata": {},
   "outputs": [
    {
     "data": {
      "text/plain": [
       "<BarContainer object of 5 artists>"
      ]
     },
     "execution_count": 30,
     "metadata": {},
     "output_type": "execute_result"
    },
    {
     "data": {
      "image/png": "[encoded data removed]",
      "text/plain": [
       "<Figure size 432x288 with 1 Axes>"
      ]
     },
     "metadata": {
      "needs_background": "light"
     },
     "output_type": "display_data"
    }
   ],
   "source": [
    "plt.bar(dfzona[\"Data\"],dfzona[\"Distancia\"])"
   ]
  },
  {
   "cell_type": "code",
   "execution_count": 31,
   "id": "9b1c7b86",
   "metadata": {},
   "outputs": [
    {
     "data": {
      "text/plain": [
       "[<matplotlib.lines.Line2D at 0x7f3500498cd0>]"
      ]
     },
     "execution_count": 31,
     "metadata": {},
     "output_type": "execute_result"
    },
    {
     "data": {
      "image/png": "[encoded data removed]",
      "text/plain": [
       "<Figure size 1080x360 with 1 Axes>"
      ]
     },
     "metadata": {
      "needs_background": "light"
     },
     "output_type": "display_data"
    }
   ],
   "source": [
    "fig = plt.figure(figsize=(15,5))\n",
    "plt.plot(dfzona[\"Data\"],dfzona[\"Distancia\"])"
   ]
  }
 ],
 "metadata": {
  "kernelspec": {
   "display_name": "Python 3",
   "language": "python",
   "name": "python3"
  },
  "language_info": {
   "codemirror_mode": {
    "name": "ipython",
    "version": 3
   },
   "file_extension": ".py",
   "mimetype": "text/x-python",
   "name": "python",
   "nbconvert_exporter": "python",
   "pygments_lexer": "ipython3",
   "version": "3.8.10"
  }
 },
 "nbformat": 4,
 "nbformat_minor": 5
}
